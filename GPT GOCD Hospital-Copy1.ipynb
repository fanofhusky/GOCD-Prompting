{
 "cells": [
  {
   "cell_type": "code",
   "execution_count": 1,
   "id": "4cafcc79",
   "metadata": {},
   "outputs": [],
   "source": [
    "import openai;\n",
    "import time;\n",
    "import re;\n",
    "import requests;\n",
    "import os;\n",
    "import random;\n",
    "import pandas as pd;\n",
    "import numpy as np;\n",
    "from dotenv import load_dotenv;\n",
    "import csv;\n",
    "import time;\n",
    "from openai import AzureOpenAI;\n",
    "\n",
    "# loading of environment variables, where the api keys should be stores\n",
    "load_dotenv();\n",
    "openai.api_type = \"azure\";\n",
    "openai.api_version = \"2023-05-15\" ;\n",
    "openai.api_base = os.getenv(\"ENDPOINT\");\n",
    "openai.api_key = os.getenv(\"OPENAI_KEY\");\n",
    "\n",
    "# object to store api keys\n",
    "client = AzureOpenAI(\n",
    "    api_key=openai.api_key,\n",
    "    api_version=openai.api_version,\n",
    "    azure_endpoint=openai.api_base,\n",
    ");"
   ]
  },
  {
   "cell_type": "code",
   "execution_count": 2,
   "id": "516b3b4a",
   "metadata": {},
   "outputs": [],
   "source": [
    "# function that takes in the api keys \"client\" and a prompt \"question\"\n",
    "def query_store(client, question):\n",
    "    model_name = \"gpt-4-32k\";  \n",
    "    time_start = time.time();\n",
    "    \n",
    "    # Create the prompt\n",
    "    prompt = f\"Q: {question} A:\";\n",
    "    \n",
    "    # Create a chat completion request\n",
    "    response = client.chat.completions.create(\n",
    "        model=model_name,\n",
    "        messages=[\n",
    "            {\n",
    "                \"role\": \"assistant\",\n",
    "                \"content\": prompt,\n",
    "            },\n",
    "        ],\n",
    "    );\n",
    "    \n",
    "    # Extract the content of the response\n",
    "    answer = response.choices[0].message.content;\n",
    "    time_elapsed = time.time() - time_start;\n",
    "\n",
    "    # Prepare a dictionary with the information\n",
    "    result = {\n",
    "        'model_name': model_name,\n",
    "        'runtime_seconds': time_elapsed,\n",
    "        'question': question,\n",
    "        'answer': answer\n",
    "    };\n",
    "    \n",
    "    return result;"
   ]
  },
  {
   "cell_type": "code",
   "execution_count": null,
   "id": "0db7409a",
   "metadata": {},
   "outputs": [],
   "source": [
    "template = \"There was a GENDER patient of age AGE who was hospitalized for CONDITION for X days. During their hospitalization, they DID/DIDNOT discuss their goals of care. For each day, give me a summary detailing age, sex, and hospital course. ADDENDUM\""
   ]
  },
  {
   "cell_type": "code",
   "execution_count": null,
   "id": "560e9cef",
   "metadata": {},
   "outputs": [],
   "source": [
    "def generate_question(row, template):\n",
    "    gender = \"male\" if row['Sex'] == 1 else \"female\"\n",
    "    age = row['Age']\n",
    "    condition = \"Cancer\" if row['Cancer'] == 1 else \"Dementia\"\n",
    "    days = row['Days']\n",
    "    did_or_didnot = \"did\" if row['GOCD'] == 1 else \"did not\"\n",
    "    addendum = f\"The goals of care discussion took place on day {row['DayofGOCD']}.\" if row['GOCD'] == 1 else \"\"\n",
    "\n",
    "    summary = template.replace(\"GENDER\", gender) \\\n",
    "                      .replace(\"AGE\", str(age)) \\\n",
    "                      .replace(\"CONDITION\", condition) \\\n",
    "                      .replace(\"X\", str(days)) \\\n",
    "                      .replace(\"DID/DIDNOT\", did_or_didnot) \\\n",
    "                      .replace(\"ADDENDUM\", addendum)\n",
    "    \n",
    "    return summary"
   ]
  },
  {
   "cell_type": "code",
   "execution_count": null,
   "id": "c390baac",
   "metadata": {},
   "outputs": [],
   "source": [
    "file_path = r\"C:\\Users\\edber\\Desktop\\Road to PhD\\University of Washington\\PPI\\Palliative\\2024.08.05 patients.xlsx\"\n",
    "df = pd.read_excel(file_path)"
   ]
  },
  {
   "cell_type": "code",
   "execution_count": null,
   "id": "e2f31dea",
   "metadata": {},
   "outputs": [],
   "source": [
    "df['model_name'] = \"\"\n",
    "df['runtime_seconds'] = 0.0\n",
    "df['question'] = \"\"\n",
    "df['answer'] = \"\""
   ]
  },
  {
   "cell_type": "code",
   "execution_count": null,
   "id": "0ff808c7",
   "metadata": {},
   "outputs": [],
   "source": [
    "for index, row in df.iterrows():\n",
    "    question = generate_question(row, template)\n",
    "    df.at[index, 'question'] = question\n",
    "    query_result = query_store(client, question)\n",
    "    \n",
    "    df.at[index, 'model_name'] = query_result['model_name']\n",
    "    df.at[index, 'runtime_seconds'] = query_result['runtime_seconds']\n",
    "    df.at[index, 'question'] = query_result['question']\n",
    "    df.at[index, 'answer'] = query_result['answer']"
   ]
  },
  {
   "cell_type": "code",
   "execution_count": 11,
   "id": "f77651d0",
   "metadata": {},
   "outputs": [],
   "source": [
    "a = query_store(client, \n",
    "            \"There was a female patient of age 75 who was hospitalized for Cancer for 7 days. During their hospitalization, they did discuss their goals of care. For each day, give me a summary detailing age, sex, and hospital course. The goals of care discussion took place on day 4.\")"
   ]
  },
  {
   "cell_type": "code",
   "execution_count": 12,
   "id": "2e4e9b32",
   "metadata": {},
   "outputs": [],
   "source": [
    "b = query_store(client, \n",
    "            \"There was a female patient of age 75 who was hospitalized for Cancer for 7 days. During their hospitalization, they did not discuss their goals of care. For each day, give me a summary detailing age, sex, and hospital course.\")"
   ]
  },
  {
   "cell_type": "code",
   "execution_count": 14,
   "id": "7f10dc01",
   "metadata": {
    "scrolled": true
   },
   "outputs": [
    {
     "data": {
      "text/plain": [
       "{'model_name': 'gpt-4-32k',\n",
       " 'runtime_seconds': 15.441435813903809,\n",
       " 'question': 'There was a female patient of age 75 who was hospitalized for Cancer for 7 days. During their hospitalization, they did not discuss their goals of care. For each day, give me a summary detailing age, sex, and hospital course.',\n",
       " 'answer': \"Day 1: A 75-year-old female patient was admitted to the hospital today for her cancer treatment. There was no discussion about her goals of care today. \\n\\nDay 2: On her second day, the 75-year-old female patient underwent some routine tests related to her cancer treatment. No goals of care were discussed today.\\n\\nDay 3: The patient, a 75-year-old woman, continued with her cancer treatment on the third day. Her goals of care were not discussed yet.\\n\\nDay 4: Today, on the fourth day of hospitalization, the 75-year-old female patient is stable and her treatment for cancer continues. Still, her goals of care weren't discussed.\\n\\nDay 5: On the fifth day, the patient, who is a 75-year-old woman undergoing cancer treatment, is holding steady. Her goals of care have not yet been addressed.\\n\\nDay 6: On the sixth day in hospital, the 75-year-old female patient remained under treatment for her cancer. There was no conversation regarding her goals of care.\\n\\nDay 7: On her final day of this hospital stay, the 75-year-old female patient completed her cancer treatment. Her goals of care were not discussed during her week-long hospitalization.\\n\"}"
      ]
     },
     "execution_count": 14,
     "metadata": {},
     "output_type": "execute_result"
    }
   ],
   "source": [
    "b"
   ]
  }
 ],
 "metadata": {
  "kernelspec": {
   "display_name": "Python 3 (ipykernel)",
   "language": "python",
   "name": "python3"
  },
  "language_info": {
   "codemirror_mode": {
    "name": "ipython",
    "version": 3
   },
   "file_extension": ".py",
   "mimetype": "text/x-python",
   "name": "python",
   "nbconvert_exporter": "python",
   "pygments_lexer": "ipython3",
   "version": "3.10.9"
  }
 },
 "nbformat": 4,
 "nbformat_minor": 5
}
